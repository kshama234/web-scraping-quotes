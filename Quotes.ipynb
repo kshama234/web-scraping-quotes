{
 "cells": [
  {
   "cell_type": "markdown",
   "metadata": {},
   "source": [
    "# Scraping 'Quotes to Scrape' Website Using Python  \n",
    "\n",
    "![](https://quotefancy.com/media/wallpaper/3840x2160/1699820-Albert-Einstein-Quote-The-world-as-we-have-created-it-is-a-process.jpg)\n",
    "\n",
    "**[Quotes to Scrape](http://quotes.toscrape.com/)** is the website for the popular quotes by different authors related to different subjects. Who don't like to hear quotes? Everyone likes to hear quotes as we can connect with our feelings like feeling of fear, sadness, motivation, science, art, etc.\n",
    "\n",
    "We will use this http://quotes.toscrape.com/ page to retrieve the information using web scraping. In this project we are going to scrape quotes with their authors, tags (subjects), and links to the author's biography.\n",
    "\n",
    "## What is Web Scraping?\n",
    " Web Scraping is the process of extracting and parsing data from websites in an automated fashion using a computer program. There are many examples where web scraping can be useful, e.g. to create a job searching scraper, top movies scraper, mobile phone's price scraper and so on. Example, here we are extracting quotes. Web scraping involves extracting out information often from HTML documents and then convert into structured data like CSV file.\n",
    " \n",
    "## Steps to Follow : \n",
    "* Install important libraries that will be helpful for the project i.e. requests, BeautifulSoup4, pandas.\n",
    "* Download the web page using the requests library\n",
    "* Inspecting HTML source code of the web page\n",
    "* Parsing parts of the website using Beautiful Soup\n",
    "* Convert parsing parts into csv file\n",
    "* Have a look on csv file using pandas library."
   ]
  },
  {
   "cell_type": "markdown",
   "metadata": {},
   "source": [
    "## Install and Import important libraries "
   ]
  },
  {
   "cell_type": "code",
   "execution_count": 1,
   "metadata": {
    "code_folding": []
   },
   "outputs": [],
   "source": [
    "# Installing important libraries i.e requests for downloading the webpage, BeautifulSoup for parsing the html tags\n",
    "!pip install jovian --upgrade --quiet\n",
    "!pip install requests --upgrade --quiet\n",
    "!pip install BeautifulSoup4 --upgrade --quiet\n",
    "\n",
    "# Importing important libraries\n",
    "import jovian\n",
    "import requests\n",
    "import pandas as pd\n",
    "from bs4 import BeautifulSoup"
   ]
  },
  {
   "cell_type": "markdown",
   "metadata": {},
   "source": [
    "## Download the web page [Quotes to Scrape](http://quotes.toscrape.com/) using requests library\n",
    "\n",
    "Requests is elegant and simple HTTP (HyperText Transfer Protocol) library for Python which allows you to send HTTP requests easily. `Requests.get` function will download the web page and returns a response object with page contents and some information indicating whether the request was successful, using a status_code."
   ]
  },
  {
   "cell_type": "code",
   "execution_count": 2,
   "metadata": {},
   "outputs": [],
   "source": [
    "url='http://quotes.toscrape.com/'\n",
    "response=requests.get(url)"
   ]
  },
  {
   "cell_type": "markdown",
   "metadata": {},
   "source": [
    "`response.status_code` will provide you the code whether the request was successful or not. If the `status.code` lies between 200 to 209 then the request was successful otherwise it was not successful."
   ]
  },
  {
   "cell_type": "code",
   "execution_count": 3,
   "metadata": {},
   "outputs": [
    {
     "data": {
      "text/plain": [
       "200"
      ]
     },
     "execution_count": 3,
     "metadata": {},
     "output_type": "execute_result"
    }
   ],
   "source": [
    "response.status_code"
   ]
  },
  {
   "cell_type": "markdown",
   "metadata": {},
   "source": [
    "# Inspect HTML of the web page\n",
    "We can view the source code of the webpage by doing right-clicking anywhere on the web page and selecting 'Inspect' option. It opens the \"Developer Tools\" pane, where we can see the source code as a tree. We can expand and collapse various nodes and find the source code for a specific portion of the page. \n",
    "\n",
    "Here's how our web page look like:\n",
    "![](https://i.imgur.com/rxSb0J0.png)"
   ]
  },
  {
   "cell_type": "markdown",
   "metadata": {},
   "source": [
    "## Parsing parts of the website using Beautiful Soup\n",
    "To extract information from the HTML source code using programming, we will use the [Beautiful Soup](https://www.crummy.com/software/BeautifulSoup/bs4/doc/) library. BeautifulSoup will return an object containing several properties and methods to extract the information from HTML documents."
   ]
  },
  {
   "cell_type": "code",
   "execution_count": 4,
   "metadata": {},
   "outputs": [
    {
     "data": {
      "text/plain": [
       "bs4.BeautifulSoup"
      ]
     },
     "execution_count": 4,
     "metadata": {},
     "output_type": "execute_result"
    }
   ],
   "source": [
    "doc=BeautifulSoup(response.text,'html.parser')\n",
    "type(doc)"
   ]
  },
  {
   "cell_type": "markdown",
   "metadata": {},
   "source": [
    "![](https://i.imgur.com/RTmd1vu.png)\n",
    "\n",
    "Upon inspecting the box containing information for the quotes, we will find a `div` tag for every quote, with class is set to `quote`. \n",
    "\n",
    "Let's find all the `div` tags having class `quote`."
   ]
  },
  {
   "cell_type": "code",
   "execution_count": 5,
   "metadata": {},
   "outputs": [
    {
     "data": {
      "text/plain": [
       "10"
      ]
     },
     "execution_count": 5,
     "metadata": {},
     "output_type": "execute_result"
    }
   ],
   "source": [
    "div_tags=doc.find_all('div',class_='quote')\n",
    "len(div_tags)"
   ]
  },
  {
   "cell_type": "markdown",
   "metadata": {},
   "source": [
    "Every page has 10 quotes, hence the `length` of `div_tags` is 10. \n",
    "`div_tags` contains the information such as **quote, author name, links to author's biography, tags**."
   ]
  },
  {
   "cell_type": "markdown",
   "metadata": {},
   "source": [
    "Let's extract quotes using the helper function `get_quotes`.\n",
    "![](https://i.imgur.com/7pQ8iHH.png)"
   ]
  },
  {
   "cell_type": "code",
   "execution_count": 7,
   "metadata": {
    "code_folding": []
   },
   "outputs": [],
   "source": [
    "def get_quotes(div_tags):\n",
    "    \"\"\"Get the list of quotes for one page\"\"\"\n",
    "    quotes=[]\n",
    "    for tag in div_tags:\n",
    "        quote=tag.find('span',class_='text').text\n",
    "        quotes.append(quote)\n",
    "    return quotes    "
   ]
  },
  {
   "cell_type": "code",
   "execution_count": 8,
   "metadata": {},
   "outputs": [
    {
     "data": {
      "text/plain": [
       "['“The world as we have created it is a process of our thinking. It cannot be changed without changing our thinking.”',\n",
       " '“It is our choices, Harry, that show what we truly are, far more than our abilities.”',\n",
       " '“There are only two ways to live your life. One is as though nothing is a miracle. The other is as though everything is a miracle.”',\n",
       " '“The person, be it gentleman or lady, who has not pleasure in a good novel, must be intolerably stupid.”',\n",
       " \"“Imperfection is beauty, madness is genius and it's better to be absolutely ridiculous than absolutely boring.”\",\n",
       " '“Try not to become a man of success. Rather become a man of value.”',\n",
       " '“It is better to be hated for what you are than to be loved for what you are not.”',\n",
       " \"“I have not failed. I've just found 10,000 ways that won't work.”\",\n",
       " \"“A woman is like a tea bag; you never know how strong it is until it's in hot water.”\",\n",
       " '“A day without sunshine is like, you know, night.”']"
      ]
     },
     "execution_count": 8,
     "metadata": {},
     "output_type": "execute_result"
    }
   ],
   "source": [
    "get_quotes(div_tags)"
   ]
  },
  {
   "cell_type": "markdown",
   "metadata": {},
   "source": [
    "\n",
    "Let's extract author names, which is inside `small tag` with class set to `author`\n",
    "which is inside `span tag` with class set to `None`. \n",
    "![](https://i.imgur.com/rbGBJOm.png)"
   ]
  },
  {
   "cell_type": "code",
   "execution_count": 9,
   "metadata": {
    "code_folding": []
   },
   "outputs": [],
   "source": [
    "def get_author_name(div_tags):\n",
    "    \"\"\"Get the author names for the quotes for one page\"\"\"\n",
    "    authors=[]\n",
    "    for tag in div_tags:\n",
    "        span_tag=tag.find('span',class_=None)\n",
    "        author=span_tag.find('small',class_='author').text\n",
    "        authors.append(author)\n",
    "    return authors  "
   ]
  },
  {
   "cell_type": "code",
   "execution_count": 10,
   "metadata": {},
   "outputs": [
    {
     "data": {
      "text/plain": [
       "['Albert Einstein',\n",
       " 'J.K. Rowling',\n",
       " 'Albert Einstein',\n",
       " 'Jane Austen',\n",
       " 'Marilyn Monroe',\n",
       " 'Albert Einstein',\n",
       " 'André Gide',\n",
       " 'Thomas A. Edison',\n",
       " 'Eleanor Roosevelt',\n",
       " 'Steve Martin']"
      ]
     },
     "execution_count": 10,
     "metadata": {},
     "output_type": "execute_result"
    }
   ],
   "source": [
    "get_author_name(div_tags)"
   ]
  },
  {
   "cell_type": "markdown",
   "metadata": {},
   "source": [
    "Let's extract author links, which is inside `a tag` with attribute `href`\n",
    "which is inside `span tag` with class set to `None`. \n",
    "![](https://i.imgur.com/iREXyaK.png)\n"
   ]
  },
  {
   "cell_type": "code",
   "execution_count": 13,
   "metadata": {
    "code_folding": []
   },
   "outputs": [],
   "source": [
    "def get_author_urls(div_tags):\n",
    "    \"\"\" Get the list of urls for one page\"\"\"\n",
    "    author_links=[]\n",
    "    for tag in div_tags:\n",
    "        span_tag=tag.find('span',class_=None)\n",
    "        author_link='http://quotes.toscrape.com'+span_tag.find('a')['href']\n",
    "        author_links.append(author_link)\n",
    "    return author_links"
   ]
  },
  {
   "cell_type": "code",
   "execution_count": 14,
   "metadata": {},
   "outputs": [
    {
     "data": {
      "text/plain": [
       "['http://quotes.toscrape.com/author/Albert-Einstein',\n",
       " 'http://quotes.toscrape.com/author/J-K-Rowling',\n",
       " 'http://quotes.toscrape.com/author/Albert-Einstein',\n",
       " 'http://quotes.toscrape.com/author/Jane-Austen',\n",
       " 'http://quotes.toscrape.com/author/Marilyn-Monroe',\n",
       " 'http://quotes.toscrape.com/author/Albert-Einstein',\n",
       " 'http://quotes.toscrape.com/author/Andre-Gide',\n",
       " 'http://quotes.toscrape.com/author/Thomas-A-Edison',\n",
       " 'http://quotes.toscrape.com/author/Eleanor-Roosevelt',\n",
       " 'http://quotes.toscrape.com/author/Steve-Martin']"
      ]
     },
     "execution_count": 14,
     "metadata": {},
     "output_type": "execute_result"
    }
   ],
   "source": [
    "get_author_urls(div_tags)"
   ]
  },
  {
   "cell_type": "markdown",
   "metadata": {},
   "source": [
    "Let's extract tags of the quotes, which is inside `meta tag` with attribute `content`\n",
    "which is inside `div tag` with class set to `tags`.\n",
    "![](https://i.imgur.com/caMcpHc.png)\n"
   ]
  },
  {
   "cell_type": "code",
   "execution_count": 11,
   "metadata": {
    "code_folding": []
   },
   "outputs": [],
   "source": [
    "def get_quote_tag(div_tags):\n",
    "    \"\"\"Get the quote tags for different quotes for one page\"\"\"\n",
    "    name_tags=[]\n",
    "    for tag in div_tags:\n",
    "        name_tag=tag.find('div',class_='tags').meta['content']\n",
    "        name_tags.append(name_tag)\n",
    "    return name_tags"
   ]
  },
  {
   "cell_type": "code",
   "execution_count": 12,
   "metadata": {},
   "outputs": [
    {
     "data": {
      "text/plain": [
       "['change,deep-thoughts,thinking,world',\n",
       " 'abilities,choices',\n",
       " 'inspirational,life,live,miracle,miracles',\n",
       " 'aliteracy,books,classic,humor',\n",
       " 'be-yourself,inspirational',\n",
       " 'adulthood,success,value',\n",
       " 'life,love',\n",
       " 'edison,failure,inspirational,paraphrased',\n",
       " 'misattributed-eleanor-roosevelt',\n",
       " 'humor,obvious,simile']"
      ]
     },
     "execution_count": 12,
     "metadata": {},
     "output_type": "execute_result"
    }
   ],
   "source": [
    "get_quote_tag(div_tags)"
   ]
  },
  {
   "cell_type": "markdown",
   "metadata": {},
   "source": [
    "We will make the list of dictionaries by combining all the lists obtained by parsing the website using `Beautiful Soup`."
   ]
  },
  {
   "cell_type": "code",
   "execution_count": 10,
   "metadata": {},
   "outputs": [],
   "source": [
    "def list_of_dict(quotes_list,author_names,urls,subject_names):\n",
    "    \"\"\"Convert the lists into one list of dictionaries having quote, author names, link, tags\"\"\"\n",
    "    return [{'Quotes': quotes_list[i],\n",
    "             'Author': author_names[i],\n",
    "             'Tags': subject_names[i],\n",
    "             'Link': urls[i]} for i in range(len(quotes_list))] # using the list comprehension\n",
    "quotes_dict=list_of_dict(quotes,authors,author_links,name_tags)"
   ]
  },
  {
   "cell_type": "markdown",
   "metadata": {},
   "source": [
    "## Convert parsing parts into csv file\n",
    "\n",
    "Let's first convert dictionary into Pandas `DataFrame`. A Pandas `DataFrame` is a 2 dimensional data structure, like a 2 dimensional array, or a table with rows and columns. Then, using `to_csv`, will save the DataFrame into `CSV` file."
   ]
  },
  {
   "cell_type": "code",
   "execution_count": 11,
   "metadata": {},
   "outputs": [],
   "source": [
    "df=pd.DataFrame(quotes_dict)\n",
    "df.to_csv('quote.csv',index=None)"
   ]
  },
  {
   "cell_type": "markdown",
   "metadata": {},
   "source": [
    "## Have a look on csv file using pandas library\n",
    "`read_csv` helps to read a comma-separated values (csv) file into DataFrame."
   ]
  },
  {
   "cell_type": "code",
   "execution_count": 12,
   "metadata": {},
   "outputs": [
    {
     "data": {
      "text/html": [
       "<div>\n",
       "<style scoped>\n",
       "    .dataframe tbody tr th:only-of-type {\n",
       "        vertical-align: middle;\n",
       "    }\n",
       "\n",
       "    .dataframe tbody tr th {\n",
       "        vertical-align: top;\n",
       "    }\n",
       "\n",
       "    .dataframe thead th {\n",
       "        text-align: right;\n",
       "    }\n",
       "</style>\n",
       "<table border=\"1\" class=\"dataframe\">\n",
       "  <thead>\n",
       "    <tr style=\"text-align: right;\">\n",
       "      <th></th>\n",
       "      <th>Quotes</th>\n",
       "      <th>Author</th>\n",
       "      <th>Tags</th>\n",
       "      <th>Link</th>\n",
       "    </tr>\n",
       "  </thead>\n",
       "  <tbody>\n",
       "    <tr>\n",
       "      <th>0</th>\n",
       "      <td>“The world as we have created it is a process ...</td>\n",
       "      <td>Albert Einstein</td>\n",
       "      <td>change,deep-thoughts,thinking,world</td>\n",
       "      <td>http://quotes.toscrape.com/author/Albert-Einstein</td>\n",
       "    </tr>\n",
       "    <tr>\n",
       "      <th>1</th>\n",
       "      <td>“It is our choices, Harry, that show what we t...</td>\n",
       "      <td>J.K. Rowling</td>\n",
       "      <td>abilities,choices</td>\n",
       "      <td>http://quotes.toscrape.com/author/J-K-Rowling</td>\n",
       "    </tr>\n",
       "    <tr>\n",
       "      <th>2</th>\n",
       "      <td>“There are only two ways to live your life. On...</td>\n",
       "      <td>Albert Einstein</td>\n",
       "      <td>inspirational,life,live,miracle,miracles</td>\n",
       "      <td>http://quotes.toscrape.com/author/Albert-Einstein</td>\n",
       "    </tr>\n",
       "    <tr>\n",
       "      <th>3</th>\n",
       "      <td>“The person, be it gentleman or lady, who has ...</td>\n",
       "      <td>Jane Austen</td>\n",
       "      <td>aliteracy,books,classic,humor</td>\n",
       "      <td>http://quotes.toscrape.com/author/Jane-Austen</td>\n",
       "    </tr>\n",
       "    <tr>\n",
       "      <th>4</th>\n",
       "      <td>“Imperfection is beauty, madness is genius and...</td>\n",
       "      <td>Marilyn Monroe</td>\n",
       "      <td>be-yourself,inspirational</td>\n",
       "      <td>http://quotes.toscrape.com/author/Marilyn-Monroe</td>\n",
       "    </tr>\n",
       "    <tr>\n",
       "      <th>5</th>\n",
       "      <td>“Try not to become a man of success. Rather be...</td>\n",
       "      <td>Albert Einstein</td>\n",
       "      <td>adulthood,success,value</td>\n",
       "      <td>http://quotes.toscrape.com/author/Albert-Einstein</td>\n",
       "    </tr>\n",
       "    <tr>\n",
       "      <th>6</th>\n",
       "      <td>“It is better to be hated for what you are tha...</td>\n",
       "      <td>André Gide</td>\n",
       "      <td>life,love</td>\n",
       "      <td>http://quotes.toscrape.com/author/Andre-Gide</td>\n",
       "    </tr>\n",
       "    <tr>\n",
       "      <th>7</th>\n",
       "      <td>“I have not failed. I've just found 10,000 way...</td>\n",
       "      <td>Thomas A. Edison</td>\n",
       "      <td>edison,failure,inspirational,paraphrased</td>\n",
       "      <td>http://quotes.toscrape.com/author/Thomas-A-Edison</td>\n",
       "    </tr>\n",
       "    <tr>\n",
       "      <th>8</th>\n",
       "      <td>“A woman is like a tea bag; you never know how...</td>\n",
       "      <td>Eleanor Roosevelt</td>\n",
       "      <td>misattributed-eleanor-roosevelt</td>\n",
       "      <td>http://quotes.toscrape.com/author/Eleanor-Roos...</td>\n",
       "    </tr>\n",
       "    <tr>\n",
       "      <th>9</th>\n",
       "      <td>“A day without sunshine is like, you know, nig...</td>\n",
       "      <td>Steve Martin</td>\n",
       "      <td>humor,obvious,simile</td>\n",
       "      <td>http://quotes.toscrape.com/author/Steve-Martin</td>\n",
       "    </tr>\n",
       "  </tbody>\n",
       "</table>\n",
       "</div>"
      ],
      "text/plain": [
       "                                              Quotes             Author  \\\n",
       "0  “The world as we have created it is a process ...    Albert Einstein   \n",
       "1  “It is our choices, Harry, that show what we t...       J.K. Rowling   \n",
       "2  “There are only two ways to live your life. On...    Albert Einstein   \n",
       "3  “The person, be it gentleman or lady, who has ...        Jane Austen   \n",
       "4  “Imperfection is beauty, madness is genius and...     Marilyn Monroe   \n",
       "5  “Try not to become a man of success. Rather be...    Albert Einstein   \n",
       "6  “It is better to be hated for what you are tha...         André Gide   \n",
       "7  “I have not failed. I've just found 10,000 way...   Thomas A. Edison   \n",
       "8  “A woman is like a tea bag; you never know how...  Eleanor Roosevelt   \n",
       "9  “A day without sunshine is like, you know, nig...       Steve Martin   \n",
       "\n",
       "                                       Tags  \\\n",
       "0       change,deep-thoughts,thinking,world   \n",
       "1                         abilities,choices   \n",
       "2  inspirational,life,live,miracle,miracles   \n",
       "3             aliteracy,books,classic,humor   \n",
       "4                 be-yourself,inspirational   \n",
       "5                   adulthood,success,value   \n",
       "6                                 life,love   \n",
       "7  edison,failure,inspirational,paraphrased   \n",
       "8           misattributed-eleanor-roosevelt   \n",
       "9                      humor,obvious,simile   \n",
       "\n",
       "                                                Link  \n",
       "0  http://quotes.toscrape.com/author/Albert-Einstein  \n",
       "1      http://quotes.toscrape.com/author/J-K-Rowling  \n",
       "2  http://quotes.toscrape.com/author/Albert-Einstein  \n",
       "3      http://quotes.toscrape.com/author/Jane-Austen  \n",
       "4   http://quotes.toscrape.com/author/Marilyn-Monroe  \n",
       "5  http://quotes.toscrape.com/author/Albert-Einstein  \n",
       "6       http://quotes.toscrape.com/author/Andre-Gide  \n",
       "7  http://quotes.toscrape.com/author/Thomas-A-Edison  \n",
       "8  http://quotes.toscrape.com/author/Eleanor-Roos...  \n",
       "9     http://quotes.toscrape.com/author/Steve-Martin  "
      ]
     },
     "execution_count": 12,
     "metadata": {},
     "output_type": "execute_result"
    }
   ],
   "source": [
    "pd.read_csv('quote.csv')"
   ]
  },
  {
   "cell_type": "markdown",
   "metadata": {},
   "source": [
    "## Full code of the project \n",
    "We have parsed all the details for one page. To generalize this for `n` number of pages, we can extend these lists by applying `extend` method of lists in the for loop.\n",
    "This is the full code of this project with generalization to `n` number of pages."
   ]
  },
  {
   "cell_type": "code",
   "execution_count": 13,
   "metadata": {
    "code_folding": []
   },
   "outputs": [],
   "source": [
    "def scraping_quotes(number_of_pages,path=None):\n",
    "    \"\"\"Get the quotes and write them into a csv file\"\"\"\n",
    "    if path is None:\n",
    "        path='Quotes.csv'\n",
    "    items=parse_quotes(number_of_pages)    \n",
    "    df=pd.DataFrame(items)\n",
    "    df.to_csv(path,index=None)\n",
    "    print('Quotes information for {} pages written to file \"{}\"'.format(number_of_pages,path))\n",
    "    return path\n",
    "\n",
    "\n",
    "def parse_quotes(number_of_pages):\n",
    "    \"\"\"Get the list of dictionaries having quotes, author names and other information for the particular number of pages \"\"\"\n",
    "    subject_names,urls,author_names,quotes_list=[],[],[],[]\n",
    "    for i in range(1,number_of_pages+1):\n",
    "        page=str(i)\n",
    "        quote_doc=get_webpage(page)\n",
    "        div_tags=quote_doc.find_all('div',class_='quote')\n",
    "        subject_names.extend(get_quote_tag(div_tags))  #joining the lists so that only elements are added to get a single list pages'\n",
    "        urls.extend(get_author_urls(div_tags))         #joining the lists so that only elements are added to get a single list\n",
    "        author_names.extend(get_author_name(div_tags)) #joining the lists so that only elements are added to get a single list\n",
    "        quotes_list.extend(get_quotes(div_tags))       #joining the lists so that only elements are added to get a single list\n",
    "        Quotes_list=list_of_dict(quotes_list,author_names,urls,subject_names)\n",
    "    return Quotes_list\n",
    "\n",
    "def get_quotes(div_tags):\n",
    "    \"\"\"Get the list of quotes for one page\"\"\"\n",
    "    quotes=[]\n",
    "    for tag in div_tags:\n",
    "        quote=tag.find('span',class_='text').text\n",
    "        quotes.append(quote)\n",
    "    return quotes\n",
    "\n",
    "def get_author_urls(div_tags):\n",
    "    \"\"\" Get the list of urls for one page\"\"\"\n",
    "    author_links=[]\n",
    "    for tag in div_tags:\n",
    "        span_tag=tag.find('span',class_=None)\n",
    "        author_link='http://quotes.toscrape.com'+span_tag.find('a')['href']\n",
    "        author_links.append(author_link)\n",
    "    return author_links\n",
    "\n",
    "def get_quote_tag(div_tags):\n",
    "    \"\"\"Get the quote tags for different quotes for one page\"\"\"\n",
    "    name_tags=[]\n",
    "    for tag in div_tags:\n",
    "        name_tag=tag.find('div',class_='tags').meta['content']\n",
    "        name_tags.append(name_tag)\n",
    "    return name_tags\n",
    "\n",
    "def get_author_name(div_tags):\n",
    "    \"\"\"Get the author names for the quotes for one page\"\"\"\n",
    "    authors=[]\n",
    "    for tag in div_tags:\n",
    "        span_tag=tag.find('span',class_=None)\n",
    "    #print(span_tag)\n",
    "        author=span_tag.find('small',class_='author').text\n",
    "        authors.append(author)\n",
    "    return authors \n",
    "\n",
    "\n",
    "def list_of_dict(quotes_list,author_names,urls,subject_names):\n",
    "    \"\"\"Convert the lists into one list of dictionaries having quote, author names, link, tags\"\"\"\n",
    "    return [{'Quotes': quotes_list[i],\n",
    "             'Author': author_names[i],\n",
    "             'Tags': subject_names[i],\n",
    "             'Link': urls[i]} for i in range(len(quotes_list))]\n",
    "\n",
    "def get_webpage(page):\n",
    "    \"\"\"Get the webpage containing quotes, authors etc.\"\"\"\n",
    "    #construct the url\n",
    "    url='http://quotes.toscrape.com/page/'+page+'/'\n",
    "    \n",
    "    #using request download the webpage\n",
    "    response=requests.get(url)\n",
    "    \n",
    "    #check if the process is successful\n",
    "    if response.status_code!=200:\n",
    "        print('Status Code:',response.status_code)\n",
    "        raise Exception ('We Failed to fetch the webpage')+url \n",
    "    else:\n",
    "        doc=BeautifulSoup(response.text,'html.parser')\n",
    "    return doc             "
   ]
  },
  {
   "cell_type": "code",
   "execution_count": 17,
   "metadata": {},
   "outputs": [
    {
     "name": "stdout",
     "output_type": "stream",
     "text": [
      "Quotes information for 10 pages written to file \"Quotes.csv\"\n"
     ]
    },
    {
     "data": {
      "text/plain": [
       "'Quotes.csv'"
      ]
     },
     "execution_count": 17,
     "metadata": {},
     "output_type": "execute_result"
    }
   ],
   "source": [
    "scraping_quotes(10)"
   ]
  },
  {
   "cell_type": "markdown",
   "metadata": {},
   "source": [
    "This is how our `Quotes.csv` file looks like:\n",
    "![](https://i.imgur.com/dU3eN1C.png)"
   ]
  },
  {
   "cell_type": "code",
   "execution_count": 18,
   "metadata": {},
   "outputs": [
    {
     "data": {
      "text/html": [
       "<div>\n",
       "<style scoped>\n",
       "    .dataframe tbody tr th:only-of-type {\n",
       "        vertical-align: middle;\n",
       "    }\n",
       "\n",
       "    .dataframe tbody tr th {\n",
       "        vertical-align: top;\n",
       "    }\n",
       "\n",
       "    .dataframe thead th {\n",
       "        text-align: right;\n",
       "    }\n",
       "</style>\n",
       "<table border=\"1\" class=\"dataframe\">\n",
       "  <thead>\n",
       "    <tr style=\"text-align: right;\">\n",
       "      <th></th>\n",
       "      <th>Quotes</th>\n",
       "      <th>Author</th>\n",
       "      <th>Tags</th>\n",
       "      <th>Link</th>\n",
       "    </tr>\n",
       "  </thead>\n",
       "  <tbody>\n",
       "    <tr>\n",
       "      <th>0</th>\n",
       "      <td>“The world as we have created it is a process ...</td>\n",
       "      <td>Albert Einstein</td>\n",
       "      <td>change,deep-thoughts,thinking,world</td>\n",
       "      <td>http://quotes.toscrape.com/author/Albert-Einstein</td>\n",
       "    </tr>\n",
       "    <tr>\n",
       "      <th>1</th>\n",
       "      <td>“It is our choices, Harry, that show what we t...</td>\n",
       "      <td>J.K. Rowling</td>\n",
       "      <td>abilities,choices</td>\n",
       "      <td>http://quotes.toscrape.com/author/J-K-Rowling</td>\n",
       "    </tr>\n",
       "    <tr>\n",
       "      <th>2</th>\n",
       "      <td>“There are only two ways to live your life. On...</td>\n",
       "      <td>Albert Einstein</td>\n",
       "      <td>inspirational,life,live,miracle,miracles</td>\n",
       "      <td>http://quotes.toscrape.com/author/Albert-Einstein</td>\n",
       "    </tr>\n",
       "    <tr>\n",
       "      <th>3</th>\n",
       "      <td>“The person, be it gentleman or lady, who has ...</td>\n",
       "      <td>Jane Austen</td>\n",
       "      <td>aliteracy,books,classic,humor</td>\n",
       "      <td>http://quotes.toscrape.com/author/Jane-Austen</td>\n",
       "    </tr>\n",
       "    <tr>\n",
       "      <th>4</th>\n",
       "      <td>“Imperfection is beauty, madness is genius and...</td>\n",
       "      <td>Marilyn Monroe</td>\n",
       "      <td>be-yourself,inspirational</td>\n",
       "      <td>http://quotes.toscrape.com/author/Marilyn-Monroe</td>\n",
       "    </tr>\n",
       "    <tr>\n",
       "      <th>...</th>\n",
       "      <td>...</td>\n",
       "      <td>...</td>\n",
       "      <td>...</td>\n",
       "      <td>...</td>\n",
       "    </tr>\n",
       "    <tr>\n",
       "      <th>95</th>\n",
       "      <td>“You never really understand a person until yo...</td>\n",
       "      <td>Harper Lee</td>\n",
       "      <td>better-life-empathy</td>\n",
       "      <td>http://quotes.toscrape.com/author/Harper-Lee</td>\n",
       "    </tr>\n",
       "    <tr>\n",
       "      <th>96</th>\n",
       "      <td>“You have to write the book that wants to be w...</td>\n",
       "      <td>Madeleine L'Engle</td>\n",
       "      <td>books,children,difficult,grown-ups,write,write...</td>\n",
       "      <td>http://quotes.toscrape.com/author/Madeleine-LE...</td>\n",
       "    </tr>\n",
       "    <tr>\n",
       "      <th>97</th>\n",
       "      <td>“Never tell the truth to people who are not wo...</td>\n",
       "      <td>Mark Twain</td>\n",
       "      <td>truth</td>\n",
       "      <td>http://quotes.toscrape.com/author/Mark-Twain</td>\n",
       "    </tr>\n",
       "    <tr>\n",
       "      <th>98</th>\n",
       "      <td>“A person's a person, no matter how small.”</td>\n",
       "      <td>Dr. Seuss</td>\n",
       "      <td>inspirational</td>\n",
       "      <td>http://quotes.toscrape.com/author/Dr-Seuss</td>\n",
       "    </tr>\n",
       "    <tr>\n",
       "      <th>99</th>\n",
       "      <td>“... a mind needs books as a sword needs a whe...</td>\n",
       "      <td>George R.R. Martin</td>\n",
       "      <td>books,mind</td>\n",
       "      <td>http://quotes.toscrape.com/author/George-R-R-M...</td>\n",
       "    </tr>\n",
       "  </tbody>\n",
       "</table>\n",
       "<p>100 rows × 4 columns</p>\n",
       "</div>"
      ],
      "text/plain": [
       "                                               Quotes              Author  \\\n",
       "0   “The world as we have created it is a process ...     Albert Einstein   \n",
       "1   “It is our choices, Harry, that show what we t...        J.K. Rowling   \n",
       "2   “There are only two ways to live your life. On...     Albert Einstein   \n",
       "3   “The person, be it gentleman or lady, who has ...         Jane Austen   \n",
       "4   “Imperfection is beauty, madness is genius and...      Marilyn Monroe   \n",
       "..                                                ...                 ...   \n",
       "95  “You never really understand a person until yo...          Harper Lee   \n",
       "96  “You have to write the book that wants to be w...   Madeleine L'Engle   \n",
       "97  “Never tell the truth to people who are not wo...          Mark Twain   \n",
       "98        “A person's a person, no matter how small.”           Dr. Seuss   \n",
       "99  “... a mind needs books as a sword needs a whe...  George R.R. Martin   \n",
       "\n",
       "                                                 Tags  \\\n",
       "0                 change,deep-thoughts,thinking,world   \n",
       "1                                   abilities,choices   \n",
       "2            inspirational,life,live,miracle,miracles   \n",
       "3                       aliteracy,books,classic,humor   \n",
       "4                           be-yourself,inspirational   \n",
       "..                                                ...   \n",
       "95                                better-life-empathy   \n",
       "96  books,children,difficult,grown-ups,write,write...   \n",
       "97                                              truth   \n",
       "98                                      inspirational   \n",
       "99                                         books,mind   \n",
       "\n",
       "                                                 Link  \n",
       "0   http://quotes.toscrape.com/author/Albert-Einstein  \n",
       "1       http://quotes.toscrape.com/author/J-K-Rowling  \n",
       "2   http://quotes.toscrape.com/author/Albert-Einstein  \n",
       "3       http://quotes.toscrape.com/author/Jane-Austen  \n",
       "4    http://quotes.toscrape.com/author/Marilyn-Monroe  \n",
       "..                                                ...  \n",
       "95       http://quotes.toscrape.com/author/Harper-Lee  \n",
       "96  http://quotes.toscrape.com/author/Madeleine-LE...  \n",
       "97       http://quotes.toscrape.com/author/Mark-Twain  \n",
       "98         http://quotes.toscrape.com/author/Dr-Seuss  \n",
       "99  http://quotes.toscrape.com/author/George-R-R-M...  \n",
       "\n",
       "[100 rows x 4 columns]"
      ]
     },
     "execution_count": 18,
     "metadata": {},
     "output_type": "execute_result"
    }
   ],
   "source": [
    "pd.read_csv('Quotes.csv')"
   ]
  },
  {
   "cell_type": "markdown",
   "metadata": {},
   "source": [
    "## Summary\n",
    "\n",
    "* Downloaded the webpage using `requests` library\n",
    "* Find the list of quotes, author names, urls, quote tags for the single page by parsing the HTMl source code of the web page using the `Beautiful Soup` library\n",
    "* Combined the lists of all the required pages\n",
    "* Convert those lists into `list of dictionaries`\n",
    "* Convert the parsed information into `CSV` file\n",
    "* Had a look on CSV file using `Pandas` library"
   ]
  },
  {
   "cell_type": "markdown",
   "metadata": {},
   "source": [
    "## Future works ideas\n",
    "* We can scrape the web page for the pages individually\n",
    "* We can do analysis for finding the top 10 authors\n",
    "* We can do analysis for finding the top 10 tags"
   ]
  },
  {
   "cell_type": "markdown",
   "metadata": {},
   "source": [
    "## References\n",
    "* N S, Aakash. (2021) “Let’s Build a Python Web Scraping Project from Scratch”, Jovian.ai, Available at :https://www.youtube.com/watch?v=RKsLLG-bzEY\n",
    "* Requests Documentation, available at https://requests.readthedocs.io/en/latest/\n",
    "* BeautifulSoup Documentation, available at https://www.crummy.com/software/BeautifulSoup/bs4/doc/\n",
    "* Pandas Dataframe as a CSV, available at https://www.geeksforgeeks.org/saving-a-pandas-dataframe-as-a-csv/\n",
    "* Quotes To Scrape Website, available at https://quotes.toscrape.com/"
   ]
  },
  {
   "cell_type": "code",
   "execution_count": 16,
   "metadata": {},
   "outputs": [
    {
     "data": {
      "application/javascript": [
       "window.require && require([\"base/js/namespace\"],function(Jupyter){Jupyter.notebook.save_checkpoint()})"
      ],
      "text/plain": [
       "<IPython.core.display.Javascript object>"
      ]
     },
     "metadata": {},
     "output_type": "display_data"
    },
    {
     "name": "stdout",
     "output_type": "stream",
     "text": [
      "[jovian] Updating notebook \"singhalkshama4343/web-scraping-project\" on https://jovian.ai\u001b[0m\n",
      "[jovian] Committed successfully! https://jovian.ai/singhalkshama4343/web-scraping-project\u001b[0m\n"
     ]
    },
    {
     "data": {
      "text/plain": [
       "'https://jovian.ai/singhalkshama4343/web-scraping-project'"
      ]
     },
     "execution_count": 16,
     "metadata": {},
     "output_type": "execute_result"
    }
   ],
   "source": [
    "jovian.commit()"
   ]
  }
 ],
 "metadata": {
  "kernelspec": {
   "display_name": "Python 3 (ipykernel)",
   "language": "python",
   "name": "python3"
  },
  "language_info": {
   "codemirror_mode": {
    "name": "ipython",
    "version": 3
   },
   "file_extension": ".py",
   "mimetype": "text/x-python",
   "name": "python",
   "nbconvert_exporter": "python",
   "pygments_lexer": "ipython3",
   "version": "3.9.6"
  }
 },
 "nbformat": 4,
 "nbformat_minor": 2
}
